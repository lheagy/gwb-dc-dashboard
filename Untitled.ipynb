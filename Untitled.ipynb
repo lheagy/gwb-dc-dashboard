{
 "cells": [
  {
   "cell_type": "markdown",
   "metadata": {},
   "source": [
    "# DC Resistivity Forward Simulation"
   ]
  },
  {
   "cell_type": "code",
   "execution_count": 1,
   "metadata": {},
   "outputs": [],
   "source": [
    "import numpy as np\n",
    "import ipympl\n",
    "import matplotlib.pyplot as plt\n",
    "from matplotlib.colors import LogNorm\n",
    "import discretize \n",
    "import ipywidgets as widgets\n",
    "from SimPEG import (\n",
    "    DC, Maps, DataMisfit, Regularization,\n",
    "    Optimization, Inversion, InvProblem, Directives, Utils\n",
    ")\n",
    "from SimPEG.EM.Static.Utils.StaticUtils import apparent_resistivity, plot_pseudoSection\n",
    "from pymatsolver import Pardiso\n",
    "\n",
    "%matplotlib inline"
   ]
  },
  {
   "cell_type": "code",
   "execution_count": 2,
   "metadata": {},
   "outputs": [],
   "source": [
    "from matplotlib import rcParams\n",
    "rcParams['font.size'] = 14"
   ]
  },
  {
   "cell_type": "code",
   "execution_count": 3,
   "metadata": {},
   "outputs": [],
   "source": [
    "# survey parameters\n",
    "\n",
    "def schlumberger_array(min_spacing=2., max_spacing=250., n_soundings=20, z_loc=-0.01):\n",
    "    \n",
    "    a0 = np.log10(min_spacing/2.)\n",
    "    an = np.log10(max_spacing/2.)\n",
    "    \n",
    "    loc_a = np.logspace(a0, an, 20)\n",
    "    loc_b = loc_a.copy()\n",
    "    loc_a = -loc_a\n",
    "\n",
    "    loc_m = loc_a[0]/2.\n",
    "    loc_n = loc_b[0]/2.\n",
    "\n",
    "    z_src = -0.01\n",
    "    \n",
    "    return (\n",
    "        np.vstack([loc_a, np.ones_like(loc_a)*z_src]).T,\n",
    "        np.vstack([loc_b, np.ones_like(loc_b)*z_src]).T,\n",
    "        np.atleast_2d(np.hstack([loc_m, z_src])),\n",
    "        np.atleast_2d(np.hstack([loc_n, z_src])),\n",
    "    )"
   ]
  },
  {
   "cell_type": "code",
   "execution_count": 4,
   "metadata": {},
   "outputs": [],
   "source": [
    "# create a mesh\n",
    "\n",
    "def simulation_mesh(electrode_spacing, n_cells_per_electrode=4, padding_factor=1.3, padding_distance_factor=1.): \n",
    "    core_h = np.kron(np.diff(electrode_spacing)/n_cells_per_electrode, np.ones(n_cells_per_electrode))\n",
    "\n",
    "    def add_padding(hx, pad_factor=padding_factor, pad_distance=np.max(electrode_spacing)*padding_distance_factor):\n",
    "        while(sum(hx)) < pad_distance:\n",
    "            pad = hx[-1]*pad_factor\n",
    "            hx = np.hstack([hx, np.r_[pad]])\n",
    "        return hx\n",
    "\n",
    "    h = add_padding(core_h)\n",
    "    hz = np.flipud(h.copy())\n",
    "\n",
    "    hx = np.hstack([np.flipud(h), h])\n",
    "    mesh = discretize.TensorMesh([hx, hz], x0='CN')\n",
    "    \n",
    "    return mesh"
   ]
  },
  {
   "cell_type": "code",
   "execution_count": 5,
   "metadata": {},
   "outputs": [],
   "source": [
    "def inversion_mesh(simulation_mesh):\n",
    "    return discretize.TensorMesh([simulation_mesh.hy], x0='N')\n",
    "\n",
    "def synthetic_model(inversion_mesh, layer_tops, layer_rho):\n",
    "    model = np.zeros(inversion_mesh.nC)\n",
    "\n",
    "    for t, r in zip(layer_tops, layer_rho):\n",
    "        model[inversion_mesh.gridCC <= t] = r\n",
    "    \n",
    "    return model    "
   ]
  },
  {
   "cell_type": "code",
   "execution_count": 6,
   "metadata": {},
   "outputs": [],
   "source": [
    "# set up the survey and run a forward simulation\n",
    "\n",
    "def create_simulation(mesh, mapping, loc_a, loc_b, loc_m, loc_n):\n",
    "\n",
    "    src_list = [\n",
    "        DC.Src.Dipole(\n",
    "            [DC.Rx.Dipole_ky(loc_m, loc_n)], \n",
    "            loc_a[i, :], loc_b[i, :]\n",
    "        ) for i in range(loc_a.shape[0])\n",
    "    ]\n",
    "\n",
    "    survey = DC.Survey_ky(src_list)\n",
    "    prob = DC.Problem2D_N(\n",
    "        mesh, rhoMap=mapping, storeJ=True, Solver=Pardiso\n",
    "    )\n",
    "\n",
    "    prob.pair(survey)\n",
    "    \n",
    "    return prob, survey"
   ]
  },
  {
   "cell_type": "code",
   "execution_count": 7,
   "metadata": {},
   "outputs": [],
   "source": [
    "def staircase_model(x, mod): \n",
    "    new_x = np.hstack([np.kron(x[:-1], np.r_[1, 1])[1:], np.r_[x[-1]]])\n",
    "    new_m = np.kron(mod, np.r_[1, 1]) \n",
    "    \n",
    "    return new_x, new_m"
   ]
  },
  {
   "cell_type": "code",
   "execution_count": 8,
   "metadata": {},
   "outputs": [],
   "source": [
    "def synthetic_data(layer_tops, layer_rho, min_spacing=2., max_spacing=250., n_soundings=20):\n",
    "\n",
    "    loc_a, loc_b, loc_m, loc_n = schlumberger_array(min_spacing, max_spacing, n_soundings)\n",
    "    electrode_spacing = loc_b[:, 0] - loc_a[:, 0]\n",
    "    mesh = simulation_mesh(electrode_spacing)\n",
    "    inv_mesh = inversion_mesh(mesh)\n",
    "    mapping = Maps.ExpMap(mesh) * Maps.SurjectVertical1D(mesh)\n",
    "    true_model = np.log(synthetic_model(inv_mesh, layer_tops, layer_rho))\n",
    "\n",
    "    prob, survey = create_simulation(mesh, mapping, loc_a, loc_b, loc_m, loc_n)\n",
    "\n",
    "    fields = prob.fields(true_model)\n",
    "    dobs = survey.dpred(true_model, f=fields)\n",
    "\n",
    "    survey.dobs = dobs\n",
    "\n",
    "    return prob, survey\n",
    "\n",
    "def plot_model_data(prob, survey, ax=None):\n",
    "    \n",
    "    if ax is None: \n",
    "        fig, ax = plt.subplots(1, 2, figsize =(16, 5))\n",
    "    \n",
    "    locs = np.vstack([np.r_[src.loc[0][0], src.loc[1][0]] for src in survey.srcList])\n",
    "    electrode_spacing = locs[:, 1] - locs[:, 0]\n",
    "    max_electrode_spacing = np.max(locs)\n",
    "    \n",
    "    xlim = max_electrode_spacing * 1.1 * np.r_[-1, 1]\n",
    "    zlim = np.r_[layer_tops.min() * 2.5, 2]\n",
    "\n",
    "    cb = plt.colorbar(prob.mesh.plotImage(prob.rho, ax=ax[0], pcolorOpts={'norm':LogNorm()})[0], ax=ax[0])\n",
    "    ax[0].plot(locs[:,0], np.zeros_like(locs[:,0]), 'C0v')\n",
    "    ax[0].plot(locs[:,1], np.zeros_like(locs[:,1]), 'C1v')\n",
    "\n",
    "    ax[0].set_xlim(xlim)\n",
    "    ax[0].set_ylim(zlim)\n",
    "    ax[0].set_title(\"true model\")\n",
    "\n",
    "    cb.set_label(\"Resistivity ($\\Omega$m)\")\n",
    "\n",
    "    rho_a = apparent_resistivity(survey, dobs=survey.dobs)\n",
    "    ax[1].loglog(electrode_spacing/2, rho_a, 'o')\n",
    "    ax[1].set_xlabel(\"electrode separation / 2 (m)\")\n",
    "    ax[1].set_ylabel(\"apparent resistivity ($\\Omega$m)\")\n",
    "    ax[1].set_title(\"simulated data\")\n",
    "\n",
    "    plt.tight_layout()"
   ]
  },
  {
   "cell_type": "code",
   "execution_count": 9,
   "metadata": {},
   "outputs": [
    {
     "data": {
      "image/png": "[encoded data removed]",
      "text/plain": [
       "<Figure size 1152x360 with 3 Axes>"
      ]
     },
     "metadata": {
      "needs_background": "light"
     },
     "output_type": "display_data"
    }
   ],
   "source": [
    "layer_tops = np.r_[0, -7, -14]\n",
    "layer_rho = np.r_[250, 60, 200]\n",
    "prob, survey = synthetic_data(layer_tops, layer_rho, min_spacing=2., max_spacing=250., n_soundings=20)\n",
    "plot_model_data(prob, survey)"
   ]
  },
  {
   "cell_type": "code",
   "execution_count": 10,
   "metadata": {},
   "outputs": [],
   "source": [
    "def layer_top_widget(i):\n",
    "    return widgets.BoundedFloatText(value=5*i, min=0, description=f\"depth_{i}\", layout=widgets.Layout(width=\"20%\"))\n",
    "\n",
    "def layer_rho_widget(i):\n",
    "    return widgets.BoundedFloatText(value=100, min=1e-8, description=\"{}_{}\".format(\"$\\\\rho$\", i), layout=widgets.Layout(width=\"20%\"))"
   ]
  },
  {
   "cell_type": "code",
   "execution_count": 11,
   "metadata": {},
   "outputs": [
    {
     "data": {
      "application/vnd.jupyter.widget-view+json": {
       "model_id": "09c415c5089d4991ad0b6833bc011f75",
       "version_major": 2,
       "version_minor": 0
      },
      "text/plain": [
       "VBox(children=(HTML(value='<h2>Model Parameters</h2>'), IntSlider(value=1, description='N layers', max=5, min=…"
      ]
     },
     "metadata": {},
     "output_type": "display_data"
    }
   ],
   "source": [
    "nlayer = widgets.IntSlider(min=1, max=5, description=\"N layers\")\n",
    "layertops = widgets.HBox([layer_top_widget(i) for i in range(nlayer.value)])\n",
    "layerrho = widgets.HBox([layer_rho_widget(i) for i in range(nlayer.value)])\n",
    "\n",
    "def update_box_layout(change):\n",
    "    new = change['new']\n",
    "    old = change['old']\n",
    "    if new < old:\n",
    "        layertops.children = layertops.children[:new]\n",
    "        layerrho.children = layerrho.children[:new]\n",
    "    elif new > old:\n",
    "        layertops.children += tuple([layer_top_widget(i+old) for i in range(new-old)])\n",
    "        layerrho.children += tuple([layer_rho_widget(old+i)for i in range(new-old)])\n",
    "\n",
    "nlayer.observe(update_box_layout, names=\"value\")\n",
    "\n",
    "model_title = widgets.HTML(\n",
    "    value=\"<h2>Model Parameters</h2>\",\n",
    ")\n",
    "\n",
    "w_model = widgets.VBox([model_title, nlayer, layertops, layerrho])\n",
    "w_model"
   ]
  },
  {
   "cell_type": "code",
   "execution_count": 12,
   "metadata": {},
   "outputs": [
    {
     "data": {
      "application/vnd.jupyter.widget-view+json": {
       "model_id": "aa3ada6e575f49dda44fbdf7acb92c5b",
       "version_major": 2,
       "version_minor": 0
      },
      "text/plain": [
       "VBox(children=(HTML(value='<h2>Survey Parameters</h2>'), IntSlider(value=1, description='N soundings', max=50,…"
      ]
     },
     "metadata": {},
     "output_type": "display_data"
    }
   ],
   "source": [
    "min_spacing = widgets.BoundedFloatText(value=2., min=0., description=\"min $AB$\")\n",
    "max_spacing = widgets.BoundedFloatText(value=250., min=0, description=\"max $AB$\")\n",
    "n_soundings = widgets.IntSlider(min=1, max=50, description=\"N soundings\")\n",
    "survey_title = widgets.HTML(\n",
    "    value=\"<h2>Survey Parameters</h2>\",\n",
    ")\n",
    "\n",
    "w_survey = widgets.VBox([survey_title, n_soundings, min_spacing, max_spacing])\n",
    "w_survey"
   ]
  },
  {
   "cell_type": "code",
   "execution_count": 13,
   "metadata": {},
   "outputs": [
    {
     "data": {
      "application/vnd.jupyter.widget-view+json": {
       "model_id": "7dbf96406e6749869a8ada474ae62122",
       "version_major": 2,
       "version_minor": 0
      },
      "text/plain": [
       "VBox(children=(VBox(children=(HTML(value='<h2>Model Parameters</h2>'), IntSlider(value=1, description='N layer…"
      ]
     },
     "metadata": {},
     "output_type": "display_data"
    }
   ],
   "source": [
    "w = widgets.VBox([w_model, w_survey])\n",
    "w"
   ]
  },
  {
   "cell_type": "code",
   "execution_count": 16,
   "metadata": {},
   "outputs": [],
   "source": [
    "class ForwardSimulationApp:\n",
    "    \n",
    "    def __init__(self):\n",
    "        \n",
    "        # Model Parameters\n",
    "        self.nlayer = widgets.IntSlider(min=1, max=5, description=\"N layers\")\n",
    "        self.layertops = widgets.HBox([self._layer_top_widget(i) for i in range(self.nlayer.value)])\n",
    "        self.layerrho = widgets.HBox([self._layer_rho_widget(i) for i in range(self.nlayer.value)])\n",
    "\n",
    "        self.nlayer.observe(self._update_box_layout, names=\"value\")\n",
    "\n",
    "        model_title = widgets.HTML(\n",
    "            value=\"<h2>Model Parameters</h2>\",\n",
    "        )\n",
    "\n",
    "        w_model = widgets.VBox([model_title, self.nlayer, self.layertops, self.layerrho])\n",
    "        \n",
    "        # Survey Parameters\n",
    "        self.min_spacing = widgets.BoundedFloatText(value=2., min=0., description=\"min $AB$\")\n",
    "        self.max_spacing = widgets.BoundedFloatText(value=250., min=0, description=\"max $AB$\")\n",
    "        self.n_soundings = widgets.IntSlider(min=1, max=50, value=20, description=\"N soundings\")\n",
    "        survey_title = widgets.HTML(\n",
    "            value=\"<h2>Survey Parameters</h2>\",\n",
    "        )\n",
    "        \n",
    "        self.min_spacing.observe(self._on_change, names=\"value\")\n",
    "        self.max_spacing.observe(self._on_change, names=\"value\")\n",
    "        self.n_soundings.observe(self._on_change, names=\"value\")\n",
    "        \n",
    "        w_survey = widgets.VBox([survey_title, self.n_soundings, self.min_spacing, self.max_spacing])\n",
    "        \n",
    "        w = widgets.VBox([w_model, w_survey])\n",
    "        \n",
    "        # plot container\n",
    "        self._plot_container = widgets.Output()\n",
    "        self.container = widgets.VBox([w, self._plot_container])\n",
    "        \n",
    "        self._update_app()\n",
    "    \n",
    "    def __call__(self):\n",
    "        return self.container\n",
    "    \n",
    "    def _layer_top_widget(self, i):\n",
    "        w = widgets.BoundedFloatText(value=5*i, min=0, description=f\"depth_{i}\", layout=widgets.Layout(width=\"20%\"))\n",
    "        w.observe(self._on_change, names=\"value\")\n",
    "        return w\n",
    "        \n",
    "    def _layer_rho_widget(self, i):\n",
    "        w = widgets.BoundedFloatText(value=100, min=1e-8, description=\"{}_{}\".format(\"$\\\\rho$\", i), layout=widgets.Layout(width=\"20%\"))\n",
    "        w.observe(self._on_change, names=\"value\")\n",
    "        return w\n",
    "    \n",
    "    def _update_box_layout(self, change):\n",
    "        new = change['new']\n",
    "        old = change['old']\n",
    "        if new < old:\n",
    "            self.layertops.children = self.layertops.children[:new]\n",
    "            self.layerrho.children = self.layerrho.children[:new]\n",
    "        elif new > old:\n",
    "            self.layertops.children += tuple([self._layer_top_widget(i+old) for i in range(new-old)])\n",
    "            self.layerrho.children += tuple([self._layer_rho_widget(old+i)for i in range(new-old)])\n",
    "        self._on_change()\n",
    "                \n",
    "    def _on_change(self, _):\n",
    "        self._update_app()\n",
    "        \n",
    "    def _create_plot(self):\n",
    "        layer_tops = np.array([top.value for top in self.layertops.children])\n",
    "        layer_rho = np.array([rho.value for rho in self.layerrho.children])\n",
    "        prob, survey = synthetic_data(\n",
    "            layer_tops, layer_rho, self.min_spacing.value, self.max_spacing.value, self.n_soundings.value\n",
    "        )\n",
    "        plot_model_data(prob, survey)\n",
    "        \n",
    "    def _update_plot(self):\n",
    "        self._plot_container.clear_output(wait=True)\n",
    "        with self._plot_container:\n",
    "            self._create_plot()\n",
    "    \n",
    "    def _update_app(self):\n",
    "        self._update_plot()\n",
    "        "
   ]
  },
  {
   "cell_type": "code",
   "execution_count": 17,
   "metadata": {},
   "outputs": [
    {
     "data": {
      "application/vnd.jupyter.widget-view+json": {
       "model_id": "36f62e2e99454e2d87dafddfcd8e6dec",
       "version_major": 2,
       "version_minor": 0
      },
      "text/plain": [
       "VBox(children=(VBox(children=(VBox(children=(HTML(value='<h2>Model Parameters</h2>'), IntSlider(value=1, descr…"
      ]
     },
     "metadata": {},
     "output_type": "display_data"
    },
    {
     "data": {
      "image/png": "[encoded data removed]",
      "text/plain": [
       "<Figure size 1152x360 with 3 Axes>"
      ]
     },
     "metadata": {
      "needs_background": "light"
     },
     "output_type": "display_data"
    }
   ],
   "source": [
    "app = ForwardSimulationApp()\n",
    "app()"
   ]
  },
  {
   "cell_type": "code",
   "execution_count": 94,
   "metadata": {},
   "outputs": [
    {
     "data": {
      "text/plain": [
       "[<matplotlib.lines.Line2D at 0x149199710>]"
      ]
     },
     "execution_count": 94,
     "metadata": {},
     "output_type": "execute_result"
    },
    {
     "data": {
      "image/png": "[encoded data removed]",
      "text/plain": [
       "<Figure size 432x288 with 1 Axes>"
      ]
     },
     "metadata": {
      "needs_background": "light"
     },
     "output_type": "display_data"
    }
   ],
   "source": [
    "rho_a = apparent_resistivity(survey, dobs=dobs)\n",
    "electrode_spacing = loc_b - loc_a\n",
    "\n",
    "plt.loglog(electrode_spacing/2, rho_a, 'o')\n",
    "mod = staircase_model(np.hstack([-layer_tops, np.max(loc_b)]), layer_rho)\n",
    "plt.loglog(mod[0], mod[1])"
   ]
  },
  {
   "cell_type": "code",
   "execution_count": 76,
   "metadata": {},
   "outputs": [
    {
     "data": {
      "text/plain": [
       "[<matplotlib.lines.Line2D at 0x13eb94940>]"
      ]
     },
     "execution_count": 76,
     "metadata": {},
     "output_type": "execute_result"
    },
    {
     "data": {
      "image/png": "[encoded data removed]",
      "text/plain": [
       "<Figure size 432x288 with 1 Axes>"
      ]
     },
     "metadata": {
      "needs_background": "light"
     },
     "output_type": "display_data"
    }
   ],
   "source": [
    "plt.semilogy(dobs)"
   ]
  },
  {
   "cell_type": "code",
   "execution_count": 115,
   "metadata": {},
   "outputs": [],
   "source": [
    "# set up an  inversion\n",
    "reg = Regularization.Tikhonov(mesh=inv_mesh, alpha_s=1e-3, alpha_x=1)\n",
    "data_misfit = DataMisfit.l2_DataMisfit(survey=survey, eps=1e-4, std=0.05)"
   ]
  },
  {
   "cell_type": "code",
   "execution_count": 116,
   "metadata": {},
   "outputs": [],
   "source": [
    "opt = Optimization.InexactGaussNewton(maxIter=40)\n",
    "invProb = InvProblem.BaseInvProblem(data_misfit, reg, opt)\n",
    "beta_schedule = Directives.BetaSchedule(coolingFactor=5, coolingRate=2)\n",
    "betaest = Directives.BetaEstimate_ByEig(beta0_ratio=1e0)\n",
    "target = Directives.TargetMisfit()\n",
    "inv = Inversion.BaseInversion(\n",
    "    invProb, directiveList=[\n",
    "        beta_schedule, betaest, target\n",
    "    ]\n",
    ")\n",
    "prob.counter = opt.counter = Utils.Counter()\n",
    "opt.LSshorten = 0.5\n",
    "opt.remember('xc')"
   ]
  },
  {
   "cell_type": "code",
   "execution_count": 117,
   "metadata": {},
   "outputs": [
    {
     "name": "stdout",
     "output_type": "stream",
     "text": [
      "SimPEG.InvProblem will set Regularization.mref to m0.\n",
      "\n",
      "    SimPEG.InvProblem is setting bfgsH0 to the inverse of the eval2Deriv.\n",
      "    ***Done using same Solver and solverOpts as the problem***\n",
      "Compute fields\n",
      "model has any nan: 0\n",
      "============================ Inexact Gauss Newton ============================\n",
      "  #     beta     phi_d     phi_m       f      |proj(x-g)-x|  LS    Comment   \n",
      "-----------------------------------------------------------------------------\n",
      "x0 has any nan: 0\n",
      "   0  6.29e+01  2.74e+02  0.00e+00  2.74e+02    2.41e+02      0              \n",
      "Compute fields\n",
      "   1  6.29e+01  1.21e+01  4.90e-02  1.52e+01    3.50e+01      0              \n",
      "Compute fields\n",
      "------------------------- STOP! -------------------------\n",
      "1 : |fc-fOld| = 0.0000e+00 <= tolF*(1+|f0|) = 2.7486e+01\n",
      "1 : |xc-x_last| = 6.8311e-01 <= tolX*(1+|x0|) = 4.8978e+00\n",
      "0 : |proj(x-g)-x|    = 3.5048e+01 <= tolG          = 1.0000e-01\n",
      "0 : |proj(x-g)-x|    = 3.5048e+01 <= 1e3*eps       = 1.0000e-02\n",
      "0 : maxIter   =      40    <= iter          =      2\n",
      "------------------------- DONE! -------------------------\n"
     ]
    }
   ],
   "source": [
    "mrec = inv.run(np.log(200)*np.ones(inv_mesh.nC))"
   ]
  },
  {
   "cell_type": "code",
   "execution_count": 118,
   "metadata": {},
   "outputs": [
    {
     "data": {
      "text/plain": [
       "(0.1, 1000.0)"
      ]
     },
     "execution_count": 118,
     "metadata": {},
     "output_type": "execute_result"
    },
    {
     "data": {
      "image/png": "[encoded data removed]",
      "text/plain": [
       "<Figure size 432x288 with 1 Axes>"
      ]
     },
     "metadata": {
      "needs_background": "light"
     },
     "output_type": "display_data"
    }
   ],
   "source": [
    "mod_true = staircase_model(np.hstack([-layer_tops, np.max(loc_b)]), layer_rho)\n",
    "mod_rec = staircase_model(inv_mesh.gridN, mrec)\n",
    "\n",
    "fig, ax = plt.subplots(1, 1)\n",
    "ax.loglog(mod_true[0], mod_true[1])\n",
    "ax.loglog(-mod_rec[0], np.exp(mod_rec[1]))\n",
    "ax.set_xlim([1e-1, 1e3])"
   ]
  },
  {
   "cell_type": "code",
   "execution_count": 97,
   "metadata": {},
   "outputs": [
    {
     "data": {
      "text/plain": [
       "(82,)"
      ]
     },
     "execution_count": 97,
     "metadata": {},
     "output_type": "execute_result"
    }
   ],
   "source": [
    "inv_mesh.gridN[:-1].shape\n",
    "# mrec"
   ]
  },
  {
   "cell_type": "code",
   "execution_count": 98,
   "metadata": {},
   "outputs": [
    {
     "data": {
      "text/plain": [
       "(82,)"
      ]
     },
     "execution_count": 98,
     "metadata": {},
     "output_type": "execute_result"
    }
   ],
   "source": [
    "mrec.shape"
   ]
  },
  {
   "cell_type": "code",
   "execution_count": 100,
   "metadata": {},
   "outputs": [
    {
     "name": "stdout",
     "output_type": "stream",
     "text": [
      "(162,)\n",
      "(164,)\n"
     ]
    }
   ],
   "source": [
    "print(mod_rec[0].shape)\n",
    "print(mod_rec[1].shape)"
   ]
  },
  {
   "cell_type": "code",
   "execution_count": null,
   "metadata": {},
   "outputs": [],
   "source": []
  }
 ],
 "metadata": {
  "kernelspec": {
   "display_name": "Python 3",
   "language": "python",
   "name": "python3"
  },
  "language_info": {
   "codemirror_mode": {
    "name": "ipython",
    "version": 3
   },
   "file_extension": ".py",
   "mimetype": "text/x-python",
   "name": "python",
   "nbconvert_exporter": "python",
   "pygments_lexer": "ipython3",
   "version": "3.6.7"
  }
 },
 "nbformat": 4,
 "nbformat_minor": 2
}
