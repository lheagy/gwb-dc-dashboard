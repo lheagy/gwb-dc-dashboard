{
 "cells": [
  {
   "cell_type": "code",
   "execution_count": 73,
   "metadata": {},
   "outputs": [],
   "source": [
    "import numpy as np\n",
    "import matplotlib.pyplot as plt\n",
    "from matplotlib.colors import LogNorm\n",
    "import discretize \n",
    "import ipywidgets as widgets\n",
    "from SimPEG import (\n",
    "    DC, Maps, DataMisfit, Regularization,\n",
    "    Optimization, Inversion, InvProblem, Directives, Utils\n",
    ")\n",
    "from SimPEG.EM.Static.Utils.StaticUtils import apparent_resistivity, plot_pseudoSection\n",
    "from pymatsolver import Pardiso\n",
    "\n",
    "%matplotlib inline"
   ]
  },
  {
   "cell_type": "code",
   "execution_count": 30,
   "metadata": {},
   "outputs": [],
   "source": [
    "from matplotlib import rcParams\n",
    "rcParams['font.size'] = 12"
   ]
  },
  {
   "cell_type": "code",
   "execution_count": 31,
   "metadata": {},
   "outputs": [],
   "source": [
    "# survey parameters\n",
    "\n",
    "def schlumberger_array(min_spacing=2., max_spacing=250., n_soundings=20, z_loc=-0.01):\n",
    "    \n",
    "    a0 = np.log10(min_spacing/2.)\n",
    "    an = np.log10(max_spacing/2.)\n",
    "    \n",
    "    loc_a = np.logspace(a0, an, 20)\n",
    "    loc_b = loc_a.copy()\n",
    "    loc_a = -loc_a\n",
    "\n",
    "    loc_m = loc_a[0]/2.\n",
    "    loc_n = loc_b[0]/2.\n",
    "\n",
    "    z_src = -0.01\n",
    "    \n",
    "    return (\n",
    "        np.vstack([loc_a, np.ones_like(loc_a)*z_src]).T,\n",
    "        np.vstack([loc_b, np.ones_like(loc_b)*z_src]).T,\n",
    "        np.atleast_2d(np.hstack([loc_m, z_src])),\n",
    "        np.atleast_2d(np.hstack([loc_n, z_src])),\n",
    "    )"
   ]
  },
  {
   "cell_type": "code",
   "execution_count": 47,
   "metadata": {},
   "outputs": [],
   "source": [
    "# create a mesh\n",
    "\n",
    "def simulation_mesh(electrode_spacing, n_cells_per_electrode=4, padding_factor=1.3, padding_distance_factor=1.): \n",
    "    core_h = np.kron(np.diff(electrode_spacing)/n_cells_per_electrode, np.ones(n_cells_per_electrode))\n",
    "\n",
    "    def add_padding(hx, pad_factor=padding_factor, pad_distance=np.max(electrode_spacing)*padding_distance_factor):\n",
    "        while(sum(hx)) < pad_distance:\n",
    "            pad = hx[-1]*pad_factor\n",
    "            hx = np.hstack([hx, np.r_[pad]])\n",
    "        return hx\n",
    "\n",
    "    h = add_padding(core_h)\n",
    "    hz = np.flipud(h.copy())\n",
    "\n",
    "    hx = np.hstack([np.flipud(h), h])\n",
    "    mesh = discretize.TensorMesh([hx, hz], x0='CN')\n",
    "    \n",
    "    return mesh"
   ]
  },
  {
   "cell_type": "code",
   "execution_count": 48,
   "metadata": {},
   "outputs": [],
   "source": [
    "def inversion_mesh(simulation_mesh):\n",
    "    return discretize.TensorMesh([simulation_mesh.hy], x0='N')\n",
    "\n",
    "def synthetic_model(inversion_mesh, layer_tops, layer_rho):\n",
    "    model = np.zeros(inversion_mesh.nC)\n",
    "\n",
    "    for t, r in zip(layer_tops, layer_rho):\n",
    "        model[inv_mesh.gridCC <= t] = r\n",
    "    \n",
    "    return model    "
   ]
  },
  {
   "cell_type": "code",
   "execution_count": 49,
   "metadata": {},
   "outputs": [],
   "source": [
    "# set up the survey and run a forward simulation\n",
    "\n",
    "def create_simulation(mesh, mapping, loc_a, loc_b, loc_m, loc_n):\n",
    "\n",
    "    src_list = [\n",
    "        DC.Src.Dipole(\n",
    "            [DC.Rx.Dipole_ky(loc_m, loc_n)], \n",
    "            loc_a[i, :], loc_b[i, :]\n",
    "        ) for i in range(loc_a.shape[0])\n",
    "    ]\n",
    "\n",
    "    survey = DC.Survey_ky(src_list)\n",
    "    prob = DC.Problem2D_N(\n",
    "        mesh, rhoMap=mapping, storeJ=True, Solver=Pardiso\n",
    "    )\n",
    "\n",
    "    prob.pair(survey)\n",
    "    \n",
    "    return prob, survey"
   ]
  },
  {
   "cell_type": "code",
   "execution_count": 50,
   "metadata": {},
   "outputs": [],
   "source": [
    "def staircase_model(x, mod): \n",
    "    new_x = np.hstack([np.kron(x[:-1], np.r_[1, 1])[1:], np.r_[x[-1]]])\n",
    "    new_m = np.kron(mod, np.r_[1, 1]) \n",
    "    \n",
    "    return new_x, new_m"
   ]
  },
  {
   "cell_type": "code",
   "execution_count": 66,
   "metadata": {},
   "outputs": [],
   "source": [
    "def synthetic_data(layer_tops, layer_rho, min_spacing=2., max_spacing=250., n_soundings=20, plot_it=True):\n",
    "\n",
    "    loc_a, loc_b, loc_m, loc_n = schlumberger_array(min_spacing, max_spacing, n_soundings)\n",
    "    electrode_spacing = loc_b[:, 0] - loc_a[:, 0]\n",
    "    mesh = simulation_mesh(electrode_spacing)\n",
    "    inv_mesh = inversion_mesh(mesh)\n",
    "    mapping = Maps.ExpMap(mesh) * Maps.SurjectVertical1D(mesh)\n",
    "    true_model = np.log(synthetic_model(inv_mesh, layer_tops, layer_rho))\n",
    "\n",
    "    prob, survey = create_simulation(mesh, mapping, loc_a, loc_b, loc_m, loc_n)\n",
    "\n",
    "    fields = prob.fields(true_model)\n",
    "    dobs = survey.dpred(true_model, f=fields)\n",
    "\n",
    "    survey.dobs = dobs\n",
    "    \n",
    "    if plot_it is True: \n",
    "        fig, ax = plt.subplots(1, 2, figsize =(16, 5))\n",
    "\n",
    "        xlim = np.max(loc_b[:, 0]) * 1.1 * np.r_[-1, 1]\n",
    "        zlim = np.r_[layer_tops.min() * 2.5, 2]\n",
    "\n",
    "        cb = plt.colorbar(mesh.plotImage(mapping * true_model, ax=ax[0], pcolorOpts={'norm':LogNorm()})[0], ax=ax[0])\n",
    "        ax[0].plot(loc_a, np.zeros_like(loc_a), 'C0v')\n",
    "        ax[0].plot(loc_b, np.zeros_like(loc_b), 'C1v')\n",
    "\n",
    "        ax[0].set_xlim(xlim)\n",
    "        ax[0].set_ylim(zlim)\n",
    "        ax[0].set_title(\"true model\")\n",
    "\n",
    "        cb.set_label(\"Resistivity ($\\Omega$m)\")\n",
    "        \n",
    "        \n",
    "        rho_a = apparent_resistivity(survey, dobs=dobs)\n",
    "        ax[1].loglog(electrode_spacing/2, rho_a, 'o')\n",
    "        ax[1].set_xlabel(\"electrode separation / 2 (m)\")\n",
    "        ax[1].set_ylabel(\"apparent resistivity ($\\Omega$m)\")\n",
    "        ax[1].set_title(\"simulated data\")\n",
    "        \n",
    "        plt.tight_layout()\n",
    "\n",
    "    return prob, survey"
   ]
  },
  {
   "cell_type": "code",
   "execution_count": 67,
   "metadata": {},
   "outputs": [
    {
     "name": "stdout",
     "output_type": "stream",
     "text": [
      "Compute fields\n"
     ]
    },
    {
     "data": {
      "text/plain": [
       "(<SimPEG.EM.Static.DC.ProblemDC_2D.Problem2D_N at 0x12718c518>,\n",
       " <SimPEG.EM.Static.DC.SurveyDC.Survey_ky at 0x12718c860>)"
      ]
     },
     "execution_count": 67,
     "metadata": {},
     "output_type": "execute_result"
    },
    {
     "data": {
      "image/png": "[encoded data removed]",
      "text/plain": [
       "<Figure size 1152x360 with 3 Axes>"
      ]
     },
     "metadata": {
      "needs_background": "light"
     },
     "output_type": "display_data"
    }
   ],
   "source": [
    "layer_tops = np.r_[0, -7, -14]\n",
    "layer_rho = np.r_[250, 60, 200]\n",
    "prob, survey = synthetic_data(layer_tops, layer_rho)"
   ]
  },
  {
   "cell_type": "code",
   "execution_count": 130,
   "metadata": {},
   "outputs": [],
   "source": [
    "def layer_top_widget(i):\n",
    "    return widgets.BoundedFloatText(value=-5*i, max=0, description=f\"z_{i}\", layout=widgets.Layout(width=\"20%\"))\n",
    "\n",
    "def layer_rho_widget(i):\n",
    "    return widgets.BoundedFloatText(value=100, min=1e-8, description=\"{}_{}\".format(\"$\\\\rho$\", i), layout=widgets.Layout(width=\"20%\"))"
   ]
  },
  {
   "cell_type": "code",
   "execution_count": 131,
   "metadata": {},
   "outputs": [
    {
     "data": {
      "application/vnd.jupyter.widget-view+json": {
       "model_id": "ea67ce8c486b4b4da2d5acb01565ff00",
       "version_major": 2,
       "version_minor": 0
      },
      "text/plain": [
       "VBox(children=(IntSlider(value=1, description='N layers', max=5, min=1), HBox(children=(BoundedFloatText(value…"
      ]
     },
     "metadata": {},
     "output_type": "display_data"
    }
   ],
   "source": [
    "nlayer = widgets.IntSlider(min=1, max=5, description=\"N layers\")\n",
    "layertops = widgets.HBox([layer_top_widget(i) for i in range(nlayer.value)])\n",
    "layerrho = widgets.HBox([layer_rho_widget(i) for i in range(nlayer.value)])\n",
    "\n",
    "def update_box_layout(change):\n",
    "    new = change['new']\n",
    "    old = change['old']\n",
    "    if new < old:\n",
    "        layertops.children = layertops.children[:new]\n",
    "        layerrho.children = layerrho.children[:new]\n",
    "    elif new > old:\n",
    "        layertops.children += tuple([layer_top_widget(i+old) for i in range(new-old)])\n",
    "        layerrho.children += tuple([layer_rho_widget(old+i)for i in range(new-old)])\n",
    "\n",
    "nlayer.observe(update_box_layout, names=\"value\")\n",
    "w = widgets.VBox([nlayer, layertops, layerrho])\n",
    "w"
   ]
  },
  {
   "cell_type": "code",
   "execution_count": 123,
   "metadata": {},
   "outputs": [
    {
     "data": {
      "text/plain": [
       "\u001b[0;31mInit signature:\u001b[0m \u001b[0mwidgets\u001b[0m\u001b[0;34m.\u001b[0m\u001b[0mBoundedFloatText\u001b[0m\u001b[0;34m(\u001b[0m\u001b[0;34m*\u001b[0m\u001b[0margs\u001b[0m\u001b[0;34m,\u001b[0m \u001b[0;34m**\u001b[0m\u001b[0mkwargs\u001b[0m\u001b[0;34m)\u001b[0m\u001b[0;34m\u001b[0m\u001b[0;34m\u001b[0m\u001b[0m\n",
       "\u001b[0;31mSource:\u001b[0m        \n",
       "\u001b[0;32mclass\u001b[0m \u001b[0mBoundedFloatText\u001b[0m\u001b[0;34m(\u001b[0m\u001b[0m_BoundedFloat\u001b[0m\u001b[0;34m)\u001b[0m\u001b[0;34m:\u001b[0m\u001b[0;34m\u001b[0m\n",
       "\u001b[0;34m\u001b[0m    \u001b[0;34m\"\"\" Displays a float value within a textbox. Value must be within the range specified.\u001b[0m\n",
       "\u001b[0;34m\u001b[0m\n",
       "\u001b[0;34m    For a textbox in which the value doesn't need to be within a specific range, use FloatText.\u001b[0m\n",
       "\u001b[0;34m\u001b[0m\n",
       "\u001b[0;34m    Parameters\u001b[0m\n",
       "\u001b[0;34m    ----------\u001b[0m\n",
       "\u001b[0;34m    value : float\u001b[0m\n",
       "\u001b[0;34m        value displayed\u001b[0m\n",
       "\u001b[0;34m    min : float\u001b[0m\n",
       "\u001b[0;34m        minimal value of the range of possible values displayed\u001b[0m\n",
       "\u001b[0;34m    max : float\u001b[0m\n",
       "\u001b[0;34m        maximal value of the range of possible values displayed\u001b[0m\n",
       "\u001b[0;34m    step : float\u001b[0m\n",
       "\u001b[0;34m        step of the increment (if None, any step is allowed)\u001b[0m\n",
       "\u001b[0;34m    description : str\u001b[0m\n",
       "\u001b[0;34m        description displayed next to the textbox\u001b[0m\n",
       "\u001b[0;34m    \"\"\"\u001b[0m\u001b[0;34m\u001b[0m\n",
       "\u001b[0;34m\u001b[0m    \u001b[0m_view_name\u001b[0m \u001b[0;34m=\u001b[0m \u001b[0mUnicode\u001b[0m\u001b[0;34m(\u001b[0m\u001b[0;34m'FloatTextView'\u001b[0m\u001b[0;34m)\u001b[0m\u001b[0;34m.\u001b[0m\u001b[0mtag\u001b[0m\u001b[0;34m(\u001b[0m\u001b[0msync\u001b[0m\u001b[0;34m=\u001b[0m\u001b[0;32mTrue\u001b[0m\u001b[0;34m)\u001b[0m\u001b[0;34m\u001b[0m\n",
       "\u001b[0;34m\u001b[0m    \u001b[0m_model_name\u001b[0m \u001b[0;34m=\u001b[0m \u001b[0mUnicode\u001b[0m\u001b[0;34m(\u001b[0m\u001b[0;34m'BoundedFloatTextModel'\u001b[0m\u001b[0;34m)\u001b[0m\u001b[0;34m.\u001b[0m\u001b[0mtag\u001b[0m\u001b[0;34m(\u001b[0m\u001b[0msync\u001b[0m\u001b[0;34m=\u001b[0m\u001b[0;32mTrue\u001b[0m\u001b[0;34m)\u001b[0m\u001b[0;34m\u001b[0m\n",
       "\u001b[0;34m\u001b[0m    \u001b[0mdisabled\u001b[0m \u001b[0;34m=\u001b[0m \u001b[0mBool\u001b[0m\u001b[0;34m(\u001b[0m\u001b[0;32mFalse\u001b[0m\u001b[0;34m,\u001b[0m \u001b[0mhelp\u001b[0m\u001b[0;34m=\u001b[0m\u001b[0;34m\"Enable or disable user changes\"\u001b[0m\u001b[0;34m)\u001b[0m\u001b[0;34m.\u001b[0m\u001b[0mtag\u001b[0m\u001b[0;34m(\u001b[0m\u001b[0msync\u001b[0m\u001b[0;34m=\u001b[0m\u001b[0;32mTrue\u001b[0m\u001b[0;34m)\u001b[0m\u001b[0;34m\u001b[0m\n",
       "\u001b[0;34m\u001b[0m    \u001b[0mcontinuous_update\u001b[0m \u001b[0;34m=\u001b[0m \u001b[0mBool\u001b[0m\u001b[0;34m(\u001b[0m\u001b[0;32mFalse\u001b[0m\u001b[0;34m,\u001b[0m \u001b[0mhelp\u001b[0m\u001b[0;34m=\u001b[0m\u001b[0;34m\"Update the value as the user types. If False, update on submission, e.g., pressing Enter or navigating away.\"\u001b[0m\u001b[0;34m)\u001b[0m\u001b[0;34m.\u001b[0m\u001b[0mtag\u001b[0m\u001b[0;34m(\u001b[0m\u001b[0msync\u001b[0m\u001b[0;34m=\u001b[0m\u001b[0;32mTrue\u001b[0m\u001b[0;34m)\u001b[0m\u001b[0;34m\u001b[0m\n",
       "\u001b[0;34m\u001b[0m    \u001b[0mstep\u001b[0m \u001b[0;34m=\u001b[0m \u001b[0mCFloat\u001b[0m\u001b[0;34m(\u001b[0m\u001b[0;32mNone\u001b[0m\u001b[0;34m,\u001b[0m \u001b[0mallow_none\u001b[0m\u001b[0;34m=\u001b[0m\u001b[0;32mTrue\u001b[0m\u001b[0;34m,\u001b[0m \u001b[0mhelp\u001b[0m\u001b[0;34m=\u001b[0m\u001b[0;34m\"Minimum step to increment the value\"\u001b[0m\u001b[0;34m)\u001b[0m\u001b[0;34m.\u001b[0m\u001b[0mtag\u001b[0m\u001b[0;34m(\u001b[0m\u001b[0msync\u001b[0m\u001b[0;34m=\u001b[0m\u001b[0;32mTrue\u001b[0m\u001b[0;34m)\u001b[0m\u001b[0;34m\u001b[0m\u001b[0;34m\u001b[0m\u001b[0m\n",
       "\u001b[0;31mFile:\u001b[0m           ~/anaconda3/lib/python3.6/site-packages/ipywidgets/widgets/widget_float.py\n",
       "\u001b[0;31mType:\u001b[0m           MetaHasTraits\n",
       "\u001b[0;31mSubclasses:\u001b[0m     \n"
      ]
     },
     "metadata": {},
     "output_type": "display_data"
    }
   ],
   "source": [
    "widgets.BoundedFloatText??"
   ]
  },
  {
   "cell_type": "code",
   "execution_count": 105,
   "metadata": {},
   "outputs": [
    {
     "data": {
      "text/plain": [
       "tuple"
      ]
     },
     "execution_count": 105,
     "metadata": {},
     "output_type": "execute_result"
    }
   ],
   "source": [
    "type(layertops.children)"
   ]
  },
  {
   "cell_type": "code",
   "execution_count": 90,
   "metadata": {},
   "outputs": [],
   "source": []
  },
  {
   "cell_type": "code",
   "execution_count": 94,
   "metadata": {},
   "outputs": [
    {
     "data": {
      "text/plain": [
       "[<matplotlib.lines.Line2D at 0x149199710>]"
      ]
     },
     "execution_count": 94,
     "metadata": {},
     "output_type": "execute_result"
    },
    {
     "data": {
      "image/png": "[encoded data removed]",
      "text/plain": [
       "<Figure size 432x288 with 1 Axes>"
      ]
     },
     "metadata": {
      "needs_background": "light"
     },
     "output_type": "display_data"
    }
   ],
   "source": [
    "rho_a = apparent_resistivity(survey, dobs=dobs)\n",
    "electrode_spacing = loc_b - loc_a\n",
    "\n",
    "plt.loglog(electrode_spacing/2, rho_a, 'o')\n",
    "mod = staircase_model(np.hstack([-layer_tops, np.max(loc_b)]), layer_rho)\n",
    "plt.loglog(mod[0], mod[1])"
   ]
  },
  {
   "cell_type": "code",
   "execution_count": 76,
   "metadata": {},
   "outputs": [
    {
     "data": {
      "text/plain": [
       "[<matplotlib.lines.Line2D at 0x13eb94940>]"
      ]
     },
     "execution_count": 76,
     "metadata": {},
     "output_type": "execute_result"
    },
    {
     "data": {
      "image/png": "[encoded data removed]",
      "text/plain": [
       "<Figure size 432x288 with 1 Axes>"
      ]
     },
     "metadata": {
      "needs_background": "light"
     },
     "output_type": "display_data"
    }
   ],
   "source": [
    "plt.semilogy(dobs)"
   ]
  },
  {
   "cell_type": "code",
   "execution_count": 115,
   "metadata": {},
   "outputs": [],
   "source": [
    "# set up an  inversion\n",
    "reg = Regularization.Tikhonov(mesh=inv_mesh, alpha_s=1e-3, alpha_x=1)\n",
    "data_misfit = DataMisfit.l2_DataMisfit(survey=survey, eps=1e-4, std=0.05)"
   ]
  },
  {
   "cell_type": "code",
   "execution_count": 116,
   "metadata": {},
   "outputs": [],
   "source": [
    "opt = Optimization.InexactGaussNewton(maxIter=40)\n",
    "invProb = InvProblem.BaseInvProblem(data_misfit, reg, opt)\n",
    "beta_schedule = Directives.BetaSchedule(coolingFactor=5, coolingRate=2)\n",
    "betaest = Directives.BetaEstimate_ByEig(beta0_ratio=1e0)\n",
    "target = Directives.TargetMisfit()\n",
    "inv = Inversion.BaseInversion(\n",
    "    invProb, directiveList=[\n",
    "        beta_schedule, betaest, target\n",
    "    ]\n",
    ")\n",
    "prob.counter = opt.counter = Utils.Counter()\n",
    "opt.LSshorten = 0.5\n",
    "opt.remember('xc')"
   ]
  },
  {
   "cell_type": "code",
   "execution_count": 117,
   "metadata": {},
   "outputs": [
    {
     "name": "stdout",
     "output_type": "stream",
     "text": [
      "SimPEG.InvProblem will set Regularization.mref to m0.\n",
      "\n",
      "    SimPEG.InvProblem is setting bfgsH0 to the inverse of the eval2Deriv.\n",
      "    ***Done using same Solver and solverOpts as the problem***\n",
      "Compute fields\n",
      "model has any nan: 0\n",
      "============================ Inexact Gauss Newton ============================\n",
      "  #     beta     phi_d     phi_m       f      |proj(x-g)-x|  LS    Comment   \n",
      "-----------------------------------------------------------------------------\n",
      "x0 has any nan: 0\n",
      "   0  6.29e+01  2.74e+02  0.00e+00  2.74e+02    2.41e+02      0              \n",
      "Compute fields\n",
      "   1  6.29e+01  1.21e+01  4.90e-02  1.52e+01    3.50e+01      0              \n",
      "Compute fields\n",
      "------------------------- STOP! -------------------------\n",
      "1 : |fc-fOld| = 0.0000e+00 <= tolF*(1+|f0|) = 2.7486e+01\n",
      "1 : |xc-x_last| = 6.8311e-01 <= tolX*(1+|x0|) = 4.8978e+00\n",
      "0 : |proj(x-g)-x|    = 3.5048e+01 <= tolG          = 1.0000e-01\n",
      "0 : |proj(x-g)-x|    = 3.5048e+01 <= 1e3*eps       = 1.0000e-02\n",
      "0 : maxIter   =      40    <= iter          =      2\n",
      "------------------------- DONE! -------------------------\n"
     ]
    }
   ],
   "source": [
    "mrec = inv.run(np.log(200)*np.ones(inv_mesh.nC))"
   ]
  },
  {
   "cell_type": "code",
   "execution_count": 118,
   "metadata": {},
   "outputs": [
    {
     "data": {
      "text/plain": [
       "(0.1, 1000.0)"
      ]
     },
     "execution_count": 118,
     "metadata": {},
     "output_type": "execute_result"
    },
    {
     "data": {
      "image/png": "[encoded data removed]",
      "text/plain": [
       "<Figure size 432x288 with 1 Axes>"
      ]
     },
     "metadata": {
      "needs_background": "light"
     },
     "output_type": "display_data"
    }
   ],
   "source": [
    "mod_true = staircase_model(np.hstack([-layer_tops, np.max(loc_b)]), layer_rho)\n",
    "mod_rec = staircase_model(inv_mesh.gridN, mrec)\n",
    "\n",
    "fig, ax = plt.subplots(1, 1)\n",
    "ax.loglog(mod_true[0], mod_true[1])\n",
    "ax.loglog(-mod_rec[0], np.exp(mod_rec[1]))\n",
    "ax.set_xlim([1e-1, 1e3])"
   ]
  },
  {
   "cell_type": "code",
   "execution_count": 97,
   "metadata": {},
   "outputs": [
    {
     "data": {
      "text/plain": [
       "(82,)"
      ]
     },
     "execution_count": 97,
     "metadata": {},
     "output_type": "execute_result"
    }
   ],
   "source": [
    "inv_mesh.gridN[:-1].shape\n",
    "# mrec"
   ]
  },
  {
   "cell_type": "code",
   "execution_count": 98,
   "metadata": {},
   "outputs": [
    {
     "data": {
      "text/plain": [
       "(82,)"
      ]
     },
     "execution_count": 98,
     "metadata": {},
     "output_type": "execute_result"
    }
   ],
   "source": [
    "mrec.shape"
   ]
  },
  {
   "cell_type": "code",
   "execution_count": 100,
   "metadata": {},
   "outputs": [
    {
     "name": "stdout",
     "output_type": "stream",
     "text": [
      "(162,)\n",
      "(164,)\n"
     ]
    }
   ],
   "source": [
    "print(mod_rec[0].shape)\n",
    "print(mod_rec[1].shape)"
   ]
  },
  {
   "cell_type": "code",
   "execution_count": null,
   "metadata": {},
   "outputs": [],
   "source": []
  }
 ],
 "metadata": {
  "kernelspec": {
   "display_name": "Python 3",
   "language": "python",
   "name": "python3"
  },
  "language_info": {
   "codemirror_mode": {
    "name": "ipython",
    "version": 3
   },
   "file_extension": ".py",
   "mimetype": "text/x-python",
   "name": "python",
   "nbconvert_exporter": "python",
   "pygments_lexer": "ipython3",
   "version": "3.6.7"
  }
 },
 "nbformat": 4,
 "nbformat_minor": 2
}
